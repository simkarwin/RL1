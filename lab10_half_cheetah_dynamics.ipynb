{
 "cells": [
  {
   "cell_type": "markdown",
   "id": "199af124",
   "metadata": {},
   "source": [
    "\n",
    "# HalfCheetah: Learn a Dynamics Model from Random Rollouts (Then Validate It)\n",
    "\n",
    "**Goal:** In this notebook you'll (1) collect random experience tuples \\((s_t, a_t, r_t, s_{t+1})\\) from `HalfCheetah-v4`, (2) train a neural network to predict **state deltas** \\(\\Delta s = s_{t+1}-s_t\\), and (3) **validate** the model with one-step and multi-step (open-loop) rollouts.\n",
    "\n",
    "This mirrors the first phase of model-based control (e.g., MPPI): learn a model offline, then use it for planning.\n"
   ]
  },
  {
   "cell_type": "markdown",
   "id": "2b3392de",
   "metadata": {},
   "source": [
    "\n",
    "## 0. Requirements\n",
    "\n",
    "- Python 3.9+\n",
    "- PyTorch `>= 1.10`\n",
    "- Gymnasium `>= 0.29`\n",
    "- MuJoCo with `HalfCheetah-v4` (install `mujoco` and `gymnasium[mujoco]`)\n",
    "\n",
    "```bash\n",
    "pip install \"gymnasium[mujoco]\" mujoco torch matplotlib\n",
    "```\n",
    "\n",
    "**Try and understand what RunningNormalizer does.**\n"
   ]
  },
  {
   "cell_type": "code",
   "execution_count": 1,
   "id": "c1213bd2",
   "metadata": {},
   "outputs": [],
   "source": [
    "\n",
    "import os, math, random, time\n",
    "from dataclasses import dataclass\n",
    "from typing import Tuple\n",
    "import numpy as np\n",
    "import torch as th\n",
    "import torch.nn as nn\n",
    "import torch.optim as optim\n",
    "import matplotlib.pyplot as plt\n",
    "import gymnasium as gym\n",
    "\n",
    "def to_t(x): \n",
    "    return th.as_tensor(x, dtype=th.float32)\n",
    "\n",
    "def fanin_init(m):\n",
    "    if isinstance(m, nn.Linear):\n",
    "        bound = 1.0 / math.sqrt(m.weight.size(1))\n",
    "        nn.init.uniform_(m.weight, -bound, +bound)\n",
    "        nn.init.zeros_(m.bias)\n",
    "\n",
    "class RunningNormalizer:\n",
    "    \"\"\"Feature-wise running mean/std (Welford).\"\"\"\n",
    "    def __init__(self, dim, eps=1e-8):\n",
    "        self.dim = dim\n",
    "        self.count = 0\n",
    "        self.mean = np.zeros(dim, dtype=np.float64)\n",
    "        self.M2   = np.zeros(dim, dtype=np.float64)\n",
    "        self.eps  = eps\n",
    "\n",
    "    def update(self, x: np.ndarray):\n",
    "        x = np.asarray(x)\n",
    "        if x.ndim == 1: x = x[None, :]\n",
    "        for v in x:\n",
    "            self.count += 1\n",
    "            d = v - self.mean\n",
    "            self.mean += d / self.count\n",
    "            d2 = v - self.mean\n",
    "            self.M2 += d * d2\n",
    "\n",
    "    @property\n",
    "    def var(self):\n",
    "        if self.count < 2: return np.ones(self.dim, dtype=np.float64)\n",
    "        return self.M2 / (self.count - 1 + 1e-12)\n",
    "\n",
    "    @property\n",
    "    def std(self): \n",
    "        return np.sqrt(self.var + self.eps)\n",
    "\n",
    "    def normalize(self, x): return (x - self.mean) / self.std\n",
    "    def denormalize(self, x): return x * self.std + self.mean\n",
    "\n",
    "def set_seed(seed=42):\n",
    "    random.seed(seed); np.random.seed(seed); th.manual_seed(seed)\n"
   ]
  },
  {
   "cell_type": "markdown",
   "id": "304b5ce5",
   "metadata": {},
   "source": [
    "\n",
    "## Initializing Environment and Figure Out Observation Structure\n",
    "\n",
    "`HalfCheetah-v4` exposes observations as `[qpos[1:], qvel[:]]`. The forward velocity is `qvel[0]`, which sits at index `len(qpos[1:])` inside the observation vector. We'll extract that index for later validation/plots. :::: This is important for planning, if we want to know what each state represents\n"
   ]
  },
  {
   "cell_type": "code",
   "execution_count": 3,
   "id": "5de69613",
   "metadata": {},
   "outputs": [
    {
     "name": "stdout",
     "output_type": "stream",
     "text": [
      "obs_dim: 17 act_dim: 6 qvel_start: 8\n"
     ]
    }
   ],
   "source": [
    "\n",
    "set_seed(42)\n",
    "env = gym.make(\"HalfCheetah-v4\")\n",
    "obs_dim = env.observation_space.shape[0]\n",
    "act_dim = env.action_space.shape[0]\n",
    "act_low = env.action_space.low\n",
    "act_high = env.action_space.high\n",
    "\n",
    "# Find start index of qvel inside obs = [qpos[1:], qvel[:]]\n",
    "nq = env.unwrapped.model.nq\n",
    "qvel_start = int(nq - 1)\n",
    "print(\"obs_dim:\", obs_dim, \"act_dim:\", act_dim, \"qvel_start:\", qvel_start)\n"
   ]
  },
  {
   "cell_type": "markdown",
   "id": "e071b0bb",
   "metadata": {},
   "source": [
    "## 🧩 Task 1: Prepare the Replay Buffer\n",
    "**Goal:** Store transitions \\((s_t, a_t, s_{t+1})\\) and return training pairs \\((x, y) = (s_t, a_t, s_{t+1} - s_t)\\).\n",
    "\n",
    "**Instructions:**\n",
    "- Implement `add()` to record transitions.\n",
    "- Add a `sample()` method to randomly sample batch of certain size.\n",
    "\n"
   ]
  },
  {
   "cell_type": "code",
   "execution_count": 4,
   "id": "08628879",
   "metadata": {},
   "outputs": [],
   "source": [
    "# Create the class and create a class object\n",
    "class Replay:\n",
    "    def __init__(self, obs_dim, act_dim, capacity=300000):\n",
    "        self.obs = np.zeros((capacity, obs_dim), dtype=np.float32)\n",
    "        self.act = np.zeros((capacity, act_dim), dtype=np.float32)\n",
    "        self.nxt = np.zeros((capacity, obs_dim), dtype=np.float32)\n",
    "        self.rew = np.zeros((capacity, 1), dtype=np.float32)\n",
    "        self.term = np.zeros((capacity, 1), dtype=np.float32)\n",
    "        self.ptr = 0; self.size = 0; self.cap = capacity\n",
    "\n",
    "    def add(self, s, a, r, sp, term):\n",
    "        pass\n",
    "\n",
    "    def sample(self, batch):\n",
    "        pass\n",
    "\n",
    "replay = Replay(obs_dim, act_dim)\n"
   ]
  },
  {
   "cell_type": "markdown",
   "id": "374692ef",
   "metadata": {},
   "source": [
    "\n",
    "## Task 2. Collect Random Rollouts\n",
    "\n",
    "- Gather random actions for a number of steps to create our training dataset. Collect data for 100000 steps. \n",
    "- Call the function and fill the replay buffer\n"
   ]
  },
  {
   "cell_type": "code",
   "execution_count": 17,
   "id": "e2d7b840",
   "metadata": {},
   "outputs": [],
   "source": [
    "\n",
    "def collect_random(env, replay, steps=10000, seed=42):\n",
    "    pass\n",
    "\n"
   ]
  },
  {
   "cell_type": "markdown",
   "id": "c7689c7f",
   "metadata": {},
   "source": [
    "\n",
    "## Task 3. Update normalizers from the collected random data in the replay buffer\n",
    "\n",
    "We normalize inputs (`[s,a]`) and targets (`Δs = s' - s`) for stable training.\n"
   ]
  },
  {
   "cell_type": "code",
   "execution_count": null,
   "id": "39332ea3",
   "metadata": {},
   "outputs": [
    {
     "name": "stdout",
     "output_type": "stream",
     "text": [
      "Normalizers ready.\n"
     ]
    }
   ],
   "source": [
    "\n",
    "obs_norm = RunningNormalizer(obs_dim)\n",
    "inp_norm = RunningNormalizer(obs_dim + act_dim)\n",
    "targ_norm = RunningNormalizer(obs_dim)\n",
    "\n",
    "# write the function to update the normalizers from the data collected in the buffer\n",
    "def update_normalizers_from_buffer(replay):\n",
    "    pass\n",
    "\n",
    "update_normalizers_from_buffer(replay)\n",
    "print(\"Normalizers ready.\")\n"
   ]
  },
  {
   "cell_type": "markdown",
   "id": "566164a4",
   "metadata": {},
   "source": [
    "\n",
    "## Defining the Neural Dynamics Model\n",
    "\n",
    "We predict **normalized** `Δs` from **normalized** `[s, a]`.\n",
    "NN parameters: \n",
    "\n",
    "- initialize a deterministic NN with a ExponentialLR sceduler( that decays the learning rate with epoch)\n",
    "- width = 200, depth = 3, lr = 1e-3, weight_decay - 1e-5, gamma for scheduler = 0.8\n",
    "- These are a starting point but not the best parameters. \n"
   ]
  },
  {
   "cell_type": "code",
   "execution_count": 5,
   "id": "a6d3eda1",
   "metadata": {},
   "outputs": [],
   "source": [
    "\n",
    "class DetMLP(nn.Module):\n",
    "    \"\"\"Predicts Δstate deterministically.\"\"\"\n",
    "    def __init__(self, in_dim, out_dim, width=200, depth=3):\n",
    "        super().__init__()\n",
    "        layers = []\n",
    "        last = in_dim\n",
    "        for _ in range(depth):\n",
    "            layers += [nn.Linear(last, width), nn.ReLU()]\n",
    "            last = width\n",
    "        layers += [nn.Linear(last, out_dim)]\n",
    "        self.net = nn.Sequential(*layers)\n",
    "        self.apply(fanin_init)\n",
    "\n",
    "    def forward(self, x):\n",
    "        return self.net(x)\n",
    "\n",
    "in_dim = obs_dim + act_dim\n",
    "out_dim = obs_dim\n",
    "model = DetMLP(in_dim, out_dim, width=200, depth=3)\n",
    "opt = optim.Adam(model.parameters(), lr=1e-3, weight_decay=1e-5)\n",
    "scheduler = optim.lr_scheduler.ExponentialLR(opt, gamma=0.8)\n"
   ]
  },
  {
   "cell_type": "markdown",
   "id": "a5a3db88",
   "metadata": {},
   "source": [
    "\n",
    "## Task 4. Train the Model\n",
    "\n",
    "We minimize MSE between predicted normalized `Δs` and target normalized `Δs`.\n",
    "\n",
    "- Train in batches, keep the batch size 256\n",
    "- Use a learning rate scheduler that decays the learning rate as training progresses. You may use the pytorch utility. See how the learning rate decays with each epoch. \n",
    "- Train for 30 epochs and plot the training curve. Loss vs epoch. \n",
    "- Find the best parameters(defined in the previous block)\n",
    "\n"
   ]
  },
  {
   "cell_type": "code",
   "execution_count": 11,
   "id": "4a39c80c",
   "metadata": {},
   "outputs": [],
   "source": [
    "\n",
    "def train_model(model, replay, epochs=30, batch_size=256):\n",
    "    pass\n",
    "    # return losses\n",
    "\n",
    "# losses = train_model(model, replay, epochs=10, batch_size=64)\n",
    "# plt.figure()\n",
    "# plt.plot(losses)\n",
    "# plt.xlabel(\"Epoch\")\n",
    "# plt.ylabel(\"MSE (normalized Δs)\")\n",
    "# plt.title(\"Model Training Loss\")\n",
    "# plt.show()\n"
   ]
  },
  {
   "cell_type": "markdown",
   "id": "34a1c7c0",
   "metadata": {},
   "source": [
    "## Task 5. Validate your model: One-Step and Multi-Step Prediction Error\n",
    "\n",
    "- Evaluate your trained model on a held-out set of random transitions.\n",
    "Generate a batch of unseen samples, predict the next-state delta, and compute the one-step MSE.\n",
    "\n",
    "- Repeat with open-loop rollouts of length k.\n",
    "Drive both the real environment and the model with the same action sequence, then report how prediction error grows across steps."
   ]
  },
  {
   "cell_type": "code",
   "execution_count": 1,
   "id": "1efe4271",
   "metadata": {},
   "outputs": [],
   "source": [
    "\n",
    "# your code here"
   ]
  },
  {
   "cell_type": "markdown",
   "id": "5c5a173d",
   "metadata": {},
   "source": [
    "\n",
    "## Task 6. Visualize Rollout Trajectories\n",
    "\n",
    "**Setup**\n",
    "Call model.eval() so gradients stay off.\n",
    "Reset the env with the provided seed; keep a copy of the initial observation.\n",
    "\n",
    "\n",
    "**Choose actions**\n",
    "Pre-sample k actions from env.action_space.sample() so the real system and the model rollout see the same sequence.\n",
    "\n",
    "**Roll forward**\n",
    "For each action:\n",
    "Step the real env (env.step(a)), append the new observation.\n",
    "For the model path:\n",
    "Build [s_model, a], normalize via inp_norm.normalize, turn into a tensor with to_t.\n",
    "Run the network, de-normalize with targ_norm.denormalize, add to the last model state, append.\n",
    "Stop early if the env terminates or truncates.\n",
    "\n",
    "**Plot**\n",
    "Plot the real trajectory as one line, model trajectory as another.\n",
    "\n"
   ]
  },
  {
   "cell_type": "code",
   "execution_count": 8,
   "id": "aebb7a76",
   "metadata": {},
   "outputs": [],
   "source": [
    "\n",
    "def visualize_rollout(env, model, k=50, dims=(0, 5, 10), seed=2025):\n",
    "    pass\n",
    "\n",
    "# Uncomment to visualize\n",
    "dims = list(range(1, 17))\n",
    "# visualize_rollout(env, model, k=50, dims=dims)#(qvel_start, qvel_start+1, qvel_start+2))\n"
   ]
  },
  {
   "cell_type": "markdown",
   "id": "c34f48f2",
   "metadata": {},
   "source": [
    "\n",
    "## 9. Answer the questions : \n",
    "\n",
    "1. How good is your model? \n",
    "2. Is this training enough for planning, or do we need continual training?\n",
    "3. How is this system different from the mountain car problem? Why can't we learn this in one episode? \n",
    "4. Why do we use a runningnormalizer instead of a static normalizer? Think about the nature of the algorithm taught in class. \n",
    "\n"
   ]
  }
 ],
 "metadata": {
  "kernelspec": {
   "display_name": "mquad_cuda",
   "language": "python",
   "name": "python3"
  },
  "language_info": {
   "codemirror_mode": {
    "name": "ipython",
    "version": 3
   },
   "file_extension": ".py",
   "mimetype": "text/x-python",
   "name": "python",
   "nbconvert_exporter": "python",
   "pygments_lexer": "ipython3",
   "version": "3.8.20"
  }
 },
 "nbformat": 4,
 "nbformat_minor": 5
}
